{
 "cells": [
  {
   "cell_type": "code",
   "execution_count": 2,
   "metadata": {},
   "outputs": [],
   "source": [
    "import numpy as np\n",
    "import sympy as sp\n",
    "import tkinter as ttk"
   ]
  },
  {
   "cell_type": "markdown",
   "metadata": {},
   "source": [
    "# Creating a Canvas"
   ]
  },
  {
   "cell_type": "code",
   "execution_count": 3,
   "metadata": {},
   "outputs": [
    {
     "name": "stdout",
     "output_type": "stream",
     "text": [
      "[]\n"
     ]
    }
   ],
   "source": [
    "main_root = ttk.Tk()\n",
    "\n",
    "some_canv = ttk.Canvas(main_root,width = 800,height = 800,background=\"green\")\n",
    "new_frame = ttk.Canvas(main_root,width = 650,height = 650,background=\"black\")\n",
    "some_canv.create_window(400,400,window = new_frame,anchor = ttk.CENTER)\n",
    "\n",
    "new_frame.create_line((0,325),(650,325),fill = \"white\",arrow = ttk.LAST,width = 1.4,smooth = True)\n",
    "new_frame.create_line((325,0),(325,650),fill = \"white\",arrow = ttk.FIRST,width = 1.4,smooth = True)\n",
    "some_canv.grid(column=0,row=0,columnspan=2)\n",
    "some_frame = ttk.Frame(main_root,width = 800,height = 100,background= \"blue\").grid(column=0,row=1,columnspan=2)\n",
    "\n",
    "\n",
    "\n",
    "\n",
    "def draw(*vals):\n",
    "    new_frame.delete(\"all\")\n",
    "    new_frame.create_line((0,325),(650,325),fill = \"white\",arrow = ttk.LAST,width = 1.4,smooth = True)\n",
    "    new_frame.create_line((325,0),(325,650),fill = \"white\",arrow = ttk.FIRST,width = 1.4,smooth = True)\n",
    "    new_frame.create_line(*vals,fill=\"white\",width = 1.4,smooth = True)\n",
    "\n",
    "def create_vals(radius,N,D):\n",
    "    a = radius\n",
    "    new_list = []\n",
    "    if type(N/D) == type(7):\n",
    "        for k in np.linspace(2*np.pi,0,100):\n",
    "            x = radius*np.cos(k*N/D)*np.cos(k)\n",
    "            y = radius*np.cos(k*N/D)*np.sin(k)\n",
    "            new_list.append((x+325,y+325))\n",
    "    else:\n",
    "        for k in np.linspace(2*D*np.pi,0,100):\n",
    "            x = radius*np.cos(k*N/D)*np.cos(k)\n",
    "            y = radius*np.cos(k*N/D)*np.sin(k)\n",
    "            new_list.append((x+325,y+325))\n",
    "    return new_list\n",
    "\n",
    "var1 = ttk.DoubleVar()\n",
    "var2 = ttk.DoubleVar()\n",
    "\n",
    "def update(f_):\n",
    "    draw(create_vals(300,var1.get(),var2.get()))\n",
    "    main_root.after(5,update)\n",
    "\n",
    "\n",
    "    \n",
    "\n",
    "var11 = ttk.Scale(some_frame,resolution= 0.7,orient=\"horizontal\",from_=-10,to=10,label = \"d:\",variable=var1,command = update)\n",
    "var22 = ttk.Scale(some_frame,resolution=0.7,orient=\"horizontal\",from_=-10,to=10,label = \"n:\",variable=var2,command = update)\n",
    "var11.grid(column=0,row=1,pady=5)\n",
    "var22.grid(column=1,row=1,pady=5)\n",
    "\n",
    "\n",
    "print(new_frame.winfo_children())\n",
    "main_root.mainloop()"
   ]
  }
 ],
 "metadata": {
  "kernelspec": {
   "display_name": "Python 3",
   "language": "python",
   "name": "python3"
  },
  "language_info": {
   "codemirror_mode": {
    "name": "ipython",
    "version": 3
   },
   "file_extension": ".py",
   "mimetype": "text/x-python",
   "name": "python",
   "nbconvert_exporter": "python",
   "pygments_lexer": "ipython3",
   "version": "3.10.6"
  },
  "orig_nbformat": 4
 },
 "nbformat": 4,
 "nbformat_minor": 2
}
